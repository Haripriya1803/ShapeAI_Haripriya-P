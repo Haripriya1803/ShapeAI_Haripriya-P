{
  "nbformat": 4,
  "nbformat_minor": 0,
  "metadata": {
    "colab": {
      "name": "HARIPRIYA P.ipynb",
      "provenance": [],
      "collapsed_sections": []
    },
    "kernelspec": {
      "name": "python3",
      "display_name": "Python 3"
    },
    "language_info": {
      "name": "python"
    }
  },
  "cells": [
    {
      "cell_type": "code",
      "metadata": {
        "id": "Gm5mYrS61zhR"
      },
      "source": [
        "from keras.datasets import mnist\n",
        "data = mnist.load_data()"
      ],
      "execution_count": 55,
      "outputs": []
    },
    {
      "cell_type": "code",
      "metadata": {
        "id": "XjwaDm_i7Bys"
      },
      "source": [
        "(X_train,y_train),(X_test,y_test)=data\n"
      ],
      "execution_count": 56,
      "outputs": []
    },
    {
      "cell_type": "code",
      "metadata": {
        "id": "6C3NqpDd5uP0"
      },
      "source": [
        "X_train = X_train.reshape((X_train.shape[0],28*28)).astype('float32')\n",
        "X_test = X_test.reshape((X_test.shape[0],28*28)).astype('float32')"
      ],
      "execution_count": 57,
      "outputs": []
    },
    {
      "cell_type": "code",
      "metadata": {
        "id": "h2oFfKKn2SCD"
      },
      "source": [
        "X_train = X_train/225\n",
        "X_test = X_test/225"
      ],
      "execution_count": 58,
      "outputs": []
    },
    {
      "cell_type": "code",
      "metadata": {
        "colab": {
          "base_uri": "https://localhost:8080/"
        },
        "id": "QC59KD-y__Jf",
        "outputId": "4f4821da-b15b-442d-938c-4c76d556d6e7"
      },
      "source": [
        "from keras.utils import np_utils\n",
        "print(y_test.shape)\n",
        "\n",
        "y_train = np_utils.to_categorical(y_train)\n",
        "y_test = np_utils.to_categorical(y_test)\n",
        "\n",
        "num_classes = y_test.shape[1]\n",
        "print(y_test.shape)\n",
        "\n"
      ],
      "execution_count": 59,
      "outputs": [
        {
          "output_type": "stream",
          "text": [
            "(10000,)\n",
            "(10000, 10)\n"
          ],
          "name": "stdout"
        }
      ]
    },
    {
      "cell_type": "code",
      "metadata": {
        "id": "cr1n8q7rA5Mr"
      },
      "source": [
        "from keras.models import Sequential\n",
        "from keras.layers import Dense"
      ],
      "execution_count": 60,
      "outputs": []
    },
    {
      "cell_type": "code",
      "metadata": {
        "id": "9TinQZVfA4Xx"
      },
      "source": [
        "model = Sequential()\n",
        "model.add(Dense(32, input_dim = 28*28 , activation = 'relu'))\n",
        "model.add(Dense(64, input_dim = 28*28 , activation= 'relu'))\n",
        "model.add(Dense(10, activation = 'softmax'))"
      ],
      "execution_count": 61,
      "outputs": []
    },
    {
      "cell_type": "code",
      "metadata": {
        "id": "H1XxIC8FDCVy"
      },
      "source": [
        "model.compile(loss = 'categorical_crossentropy', optimizer = 'adam' , metrics=('accuracy'))"
      ],
      "execution_count": 62,
      "outputs": []
    },
    {
      "cell_type": "code",
      "metadata": {
        "colab": {
          "base_uri": "https://localhost:8080/"
        },
        "id": "BOAHgiysDoez",
        "outputId": "fbb963d3-cb45-4495-c2f2-184f9931fd1a"
      },
      "source": [
        "model.summary()"
      ],
      "execution_count": 63,
      "outputs": [
        {
          "output_type": "stream",
          "text": [
            "Model: \"sequential_3\"\n",
            "_________________________________________________________________\n",
            "Layer (type)                 Output Shape              Param #   \n",
            "=================================================================\n",
            "dense_9 (Dense)              (None, 32)                25120     \n",
            "_________________________________________________________________\n",
            "dense_10 (Dense)             (None, 64)                2112      \n",
            "_________________________________________________________________\n",
            "dense_11 (Dense)             (None, 10)                650       \n",
            "=================================================================\n",
            "Total params: 27,882\n",
            "Trainable params: 27,882\n",
            "Non-trainable params: 0\n",
            "_________________________________________________________________\n"
          ],
          "name": "stdout"
        }
      ]
    },
    {
      "cell_type": "code",
      "metadata": {
        "colab": {
          "base_uri": "https://localhost:8080/"
        },
        "id": "ETfF-obWJ2vz",
        "outputId": "a0483b32-2f2d-4c8e-81e1-e771ab270d7b"
      },
      "source": [
        " model.fit(X_train, y_train, epochs=10 ,batch_size=10)\n"
      ],
      "execution_count": 64,
      "outputs": [
        {
          "output_type": "stream",
          "text": [
            "Epoch 1/10\n",
            "6000/6000 [==============================] - 7s 1ms/step - loss: 0.4394 - accuracy: 0.8681\n",
            "Epoch 2/10\n",
            "6000/6000 [==============================] - 6s 1ms/step - loss: 0.1480 - accuracy: 0.9555\n",
            "Epoch 3/10\n",
            "6000/6000 [==============================] - 6s 1ms/step - loss: 0.1095 - accuracy: 0.9648\n",
            "Epoch 4/10\n",
            "6000/6000 [==============================] - 6s 1ms/step - loss: 0.0880 - accuracy: 0.9733\n",
            "Epoch 5/10\n",
            "6000/6000 [==============================] - 6s 963us/step - loss: 0.0746 - accuracy: 0.9770\n",
            "Epoch 6/10\n",
            "6000/6000 [==============================] - 6s 976us/step - loss: 0.0657 - accuracy: 0.9791\n",
            "Epoch 7/10\n",
            "6000/6000 [==============================] - 6s 1ms/step - loss: 0.0597 - accuracy: 0.9809\n",
            "Epoch 8/10\n",
            "6000/6000 [==============================] - 6s 986us/step - loss: 0.0561 - accuracy: 0.9826\n",
            "Epoch 9/10\n",
            "6000/6000 [==============================] - 6s 1ms/step - loss: 0.0481 - accuracy: 0.9842\n",
            "Epoch 10/10\n",
            "6000/6000 [==============================] - 6s 996us/step - loss: 0.0422 - accuracy: 0.9862\n"
          ],
          "name": "stdout"
        },
        {
          "output_type": "execute_result",
          "data": {
            "text/plain": [
              "<tensorflow.python.keras.callbacks.History at 0x7f6a3f4a9d50>"
            ]
          },
          "metadata": {
            "tags": []
          },
          "execution_count": 64
        }
      ]
    },
    {
      "cell_type": "code",
      "metadata": {
        "colab": {
          "base_uri": "https://localhost:8080/"
        },
        "id": "nguGX3phLxNg",
        "outputId": "a7c99618-bd6f-4979-f034-de7332e82f89"
      },
      "source": [
        "scores = model.evaluate(X_test,y_test)\n",
        "print(scores)"
      ],
      "execution_count": 65,
      "outputs": [
        {
          "output_type": "stream",
          "text": [
            "313/313 [==============================] - 0s 724us/step - loss: 0.1253 - accuracy: 0.9664\n",
            "[0.12530973553657532, 0.9664000272750854]\n"
          ],
          "name": "stdout"
        }
      ]
    }
  ]
}